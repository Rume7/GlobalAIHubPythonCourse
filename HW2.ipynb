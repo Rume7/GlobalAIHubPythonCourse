{
 "cells": [
  {
   "cell_type": "code",
   "execution_count": 5,
   "metadata": {},
   "outputs": [],
   "source": [
    "# Homework 2 - User Identification Program"
   ]
  },
  {
   "cell_type": "code",
   "execution_count": 6,
   "metadata": {},
   "outputs": [
    {
     "name": "stdout",
     "output_type": "stream",
     "text": [
      "Enter your first name: Barry\n",
      "Enter your last name: Marry\n",
      "Enter your age: 22\n",
      "Enter your year of birth, (e.g 1998): 1990\n"
     ]
    }
   ],
   "source": [
    "# Inputting user information\n",
    "user_info = []\n",
    "first_name = input(\"Enter your first name: \")\n",
    "last_name =  input(\"Enter your last name: \")\n",
    "age =        input(\"Enter your age: \")\n",
    "date_of_birth = input(\"Enter your year of birth, (e.g 1998): \")\n",
    "\n",
    "user_info.append(first_name)\n",
    "user_info.append(last_name)\n",
    "user_info.append(age)\n",
    "user_info.append(date_of_birth)"
   ]
  },
  {
   "cell_type": "code",
   "execution_count": 7,
   "metadata": {},
   "outputs": [
    {
     "name": "stdout",
     "output_type": "stream",
     "text": [
      "Barry\n",
      "Marry\n",
      "22\n",
      "1990\n"
     ]
    }
   ],
   "source": [
    "#printing all the user's information\n",
    "for each_detail in user_info:\n",
    "    print(each_detail)"
   ]
  },
  {
   "cell_type": "code",
   "execution_count": 10,
   "metadata": {},
   "outputs": [
    {
     "name": "stdout",
     "output_type": "stream",
     "text": [
      "You can go out to the street.\n"
     ]
    }
   ],
   "source": [
    "if int(age) < 18:\n",
    "    print(\"You can't go out because it's too dangerous\")\n",
    "else:\n",
    "    print(\"You can go out to the street.\")"
   ]
  },
  {
   "cell_type": "code",
   "execution_count": null,
   "metadata": {},
   "outputs": [],
   "source": []
  }
 ],
 "metadata": {
  "kernelspec": {
   "display_name": "Python 3",
   "language": "python",
   "name": "python3"
  },
  "language_info": {
   "codemirror_mode": {
    "name": "ipython",
    "version": 3
   },
   "file_extension": ".py",
   "mimetype": "text/x-python",
   "name": "python",
   "nbconvert_exporter": "python",
   "pygments_lexer": "ipython3",
   "version": "3.8.3"
  }
 },
 "nbformat": 4,
 "nbformat_minor": 4
}
