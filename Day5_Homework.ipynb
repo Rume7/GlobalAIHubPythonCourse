{
 "cells": [
  {
   "cell_type": "code",
   "execution_count": 2,
   "metadata": {},
   "outputs": [],
   "source": [
    "# Introduction to Python Training with Global AI Hub!\n",
    "# Day 5 Homework\n",
    "# By Oghenerhume Disi"
   ]
  },
  {
   "cell_type": "code",
   "execution_count": 10,
   "metadata": {},
   "outputs": [],
   "source": [
    "class Animal:\n",
    "    def __init__(self, name, animal_type, sound):\n",
    "        self.name = name\n",
    "        self.type = animal_type\n",
    "        self.sound = sound\n",
    "        \n",
    "    def get_animal_name(self):\n",
    "        return self.name\n",
    "    \n",
    "    def get_animal_type(self):\n",
    "        return self.type\n",
    "    \n",
    "class Dog(Animal):\n",
    "    def __init__(self, name, animal_type, sound):\n",
    "        super().__init__(name, animal_type, sound)\n",
    "        \n",
    "    def make_sound(self):\n",
    "        return self.sound        \n",
    "    \n",
    "        \n",
    "class Cat(Animal):\n",
    "    def __init__(self, name, animal_type, sound):\n",
    "        super().__init__(name, animal_type, sound)\n",
    "    \n",
    "    def make_sound(self):\n",
    "        return self.sound \n"
   ]
  },
  {
   "cell_type": "code",
   "execution_count": 12,
   "metadata": {},
   "outputs": [
    {
     "name": "stdout",
     "output_type": "stream",
     "text": [
      "Roar\n",
      "Billy\n",
      "Meow\n",
      "Carnivore\n"
     ]
    }
   ],
   "source": [
    "bulldog = Dog(\"Willie\", \"Carnivore\", \"Roar\")\n",
    "print(bulldog.make_sound())\n",
    "kitten = Dog(\"Billy\", \"Carnivore\", \"Meow\")\n",
    "print(kitten.get_animal_name())\n",
    "print(kitten.make_sound())\n",
    "print(kitten.get_animal_type())"
   ]
  },
  {
   "cell_type": "code",
   "execution_count": null,
   "metadata": {},
   "outputs": [],
   "source": [
    "# End."
   ]
  }
 ],
 "metadata": {
  "kernelspec": {
   "display_name": "Python 3",
   "language": "python",
   "name": "python3"
  },
  "language_info": {
   "codemirror_mode": {
    "name": "ipython",
    "version": 3
   },
   "file_extension": ".py",
   "mimetype": "text/x-python",
   "name": "python",
   "nbconvert_exporter": "python",
   "pygments_lexer": "ipython3",
   "version": "3.8.3"
  }
 },
 "nbformat": 4,
 "nbformat_minor": 4
}
