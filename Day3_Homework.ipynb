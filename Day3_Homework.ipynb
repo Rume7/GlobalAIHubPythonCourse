{
 "cells": [
  {
   "cell_type": "code",
   "execution_count": 8,
   "metadata": {},
   "outputs": [],
   "source": [
    "# Introduction to Python Training with Global AI Hub!\n",
    "# Day3 Homework\n",
    "# By Oghenerhume Disi"
   ]
  },
  {
   "cell_type": "code",
   "execution_count": 9,
   "metadata": {},
   "outputs": [],
   "source": [
    "# Question 1\n",
    "#        Steps\n",
    "#======================================================================\n",
    "# 1. Create a saved username and password \n",
    "# 2. Request user to input his login details\n",
    "# 3. Use if else statement to check if login details are correct\n",
    "# 4. Print login successful or wrong details."
   ]
  },
  {
   "cell_type": "code",
   "execution_count": 10,
   "metadata": {},
   "outputs": [],
   "source": [
    "saved_username = \"JohnBosco\"\n",
    "saved_password = \"RapidoFire1234\""
   ]
  },
  {
   "cell_type": "code",
   "execution_count": 11,
   "metadata": {},
   "outputs": [
    {
     "name": "stdout",
     "output_type": "stream",
     "text": [
      "Enter your username: JohnBosco\n",
      "Enter your password: RapidoFire1234\n",
      "Login successful!!!\n"
     ]
    }
   ],
   "source": [
    "username = input(\"Enter your username: \")\n",
    "password = input(\"Enter your password: \")\n",
    "\n",
    "if username == saved_username:\n",
    "    if password == saved_password:\n",
    "        print(\"Login successful!!!\")\n",
    "    else:\n",
    "        print(\"Wrong password\")\n",
    "else:\n",
    "    print(\"Wrong username\")"
   ]
  },
  {
   "cell_type": "code",
   "execution_count": 12,
   "metadata": {},
   "outputs": [],
   "source": [
    "# Extra\n",
    "#        Steps\n",
    "#======================================================================\n",
    "# 1. Create a dictionary of saved username and password \n",
    "# 2. Request user to input his login details\n",
    "# 3. Use if else statement to check if login details are correct\n",
    "# 4. Print login successful or wrong details."
   ]
  },
  {
   "cell_type": "code",
   "execution_count": 13,
   "metadata": {},
   "outputs": [
    {
     "name": "stdout",
     "output_type": "stream",
     "text": [
      "Enter your username: JohnBosco\n",
      "Enter your password: RapidoFire1234\n",
      "Login successful!!!\n"
     ]
    }
   ],
   "source": [
    "# Extra\n",
    "login_details = {\"saved_username\": \"JohnBosco\", \"saved_password\": \"RapidoFire1234\"}\n",
    "\n",
    "username = input(\"Enter your username: \")\n",
    "password = input(\"Enter your password: \")\n",
    "\n",
    "if username == login_details.get(\"saved_username\"):\n",
    "    if password == login_details.get(\"saved_password\"):\n",
    "        print(\"Login successful!!!\")\n",
    "    else:\n",
    "        print(\"Wrong password\")\n",
    "else:\n",
    "    print(\"Wrong username\")\n",
    "    "
   ]
  },
  {
   "cell_type": "code",
   "execution_count": null,
   "metadata": {},
   "outputs": [],
   "source": [
    "# End."
   ]
  }
 ],
 "metadata": {
  "kernelspec": {
   "display_name": "Python 3",
   "language": "python",
   "name": "python3"
  },
  "language_info": {
   "codemirror_mode": {
    "name": "ipython",
    "version": 3
   },
   "file_extension": ".py",
   "mimetype": "text/x-python",
   "name": "python",
   "nbconvert_exporter": "python",
   "pygments_lexer": "ipython3",
   "version": "3.8.3"
  }
 },
 "nbformat": 4,
 "nbformat_minor": 4
}
