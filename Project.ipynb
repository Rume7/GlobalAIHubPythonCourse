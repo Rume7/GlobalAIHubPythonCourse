{
 "cells": [
  {
   "cell_type": "code",
   "execution_count": 54,
   "metadata": {},
   "outputs": [],
   "source": [
    "# Introduction to Python Training with Global AI Hub!\n",
    "# Project\n",
    "# By Oghenerhume Disi"
   ]
  },
  {
   "cell_type": "code",
   "execution_count": 55,
   "metadata": {},
   "outputs": [],
   "source": [
    "class Employee:\n",
    "    \n",
    "    number_of_employees = 0\n",
    "    \n",
    "    def __init__(self, first_name, last_name, age):\n",
    "        self.first_name = first_name\n",
    "        self.last_name = last_name\n",
    "        self.age = age\n",
    "        self.languages = []\n",
    "    \n",
    "    def getFirstName(self):\n",
    "        return self.first_name\n",
    "    \n",
    "    def getLastName(self):\n",
    "        return self.last_name\n",
    "    \n",
    "    def getAge(self):\n",
    "        return self.age\n",
    "    \n",
    "    def getName(self):\n",
    "        return \"{} {}\".format(self.first_name, self.last_name)\n",
    "    \n",
    "    def addEmployee():\n",
    "        number_of_employees = number_of_employees + 1\n",
    "        \n",
    "    def addLanguage(self, language):\n",
    "        self.languages.append(language)\n",
    "        \n",
    "    def getLanguageSpoken(self):\n",
    "        return self.languages\n",
    "    \n",
    "    def getNumberOfEmployees():\n",
    "        return number_of_employees\n",
    "    \n",
    "    def printEmployeeInfo(self):\n",
    "        info = \"{} {} is {} old and speaks {} languages.\".format(self.first_name, self.last_name, self.age, len(self.languages))\n",
    "        return info"
   ]
  },
  {
   "cell_type": "code",
   "execution_count": 56,
   "metadata": {},
   "outputs": [],
   "source": [
    "class Manager(Employee):    \n",
    "    \n",
    "    def __init__(self, first_name, last_name, age, level):\n",
    "        super().__init__(first_name, last_name, age)\n",
    "        self.role = \"Manager\"\n",
    "        self.grade = level\n",
    "        \n",
    "    def getManagerLevel(self):\n",
    "        return self.grade\n",
    "    \n",
    "    def printEmployeeInfo(self):\n",
    "        return super().printEmployeeInfo() + \" He is a {}\".format(self.role)\n",
    "        "
   ]
  },
  {
   "cell_type": "code",
   "execution_count": 57,
   "metadata": {},
   "outputs": [
    {
     "data": {
      "text/plain": [
       "'Boris Loveday is 22 old and speaks 2 languages.'"
      ]
     },
     "execution_count": 57,
     "metadata": {},
     "output_type": "execute_result"
    }
   ],
   "source": [
    "employee1 = Employee(\"Boris\", \"Loveday\", 22)\n",
    "employee1.addLanguage(\"French\")\n",
    "employee1.addLanguage(\"English\")\n",
    "employee1.printEmployeeInfo()"
   ]
  },
  {
   "cell_type": "code",
   "execution_count": 58,
   "metadata": {},
   "outputs": [
    {
     "data": {
      "text/plain": [
       "'Greg Mandison is 44 old and speaks 3 languages. He is a Manager'"
      ]
     },
     "execution_count": 58,
     "metadata": {},
     "output_type": "execute_result"
    }
   ],
   "source": [
    "employee2 = Manager(\"Greg\", \"Mandison\", 44, 12)\n",
    "employee2.addLanguage(\"Spanish\")\n",
    "employee2.addLanguage(\"English\")\n",
    "employee2.addLanguage(\"Greek\")\n",
    "employee2.printEmployeeInfo()"
   ]
  },
  {
   "cell_type": "code",
   "execution_count": null,
   "metadata": {},
   "outputs": [],
   "source": [
    "#------------------------ End. Thanks--------------------------------#"
   ]
  }
 ],
 "metadata": {
  "kernelspec": {
   "display_name": "Python 3",
   "language": "python",
   "name": "python3"
  },
  "language_info": {
   "codemirror_mode": {
    "name": "ipython",
    "version": 3
   },
   "file_extension": ".py",
   "mimetype": "text/x-python",
   "name": "python",
   "nbconvert_exporter": "python",
   "pygments_lexer": "ipython3",
   "version": "3.8.3"
  }
 },
 "nbformat": 4,
 "nbformat_minor": 4
}
