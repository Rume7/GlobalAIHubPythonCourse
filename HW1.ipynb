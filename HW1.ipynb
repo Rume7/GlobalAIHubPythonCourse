{
 "cells": [
  {
   "cell_type": "code",
   "execution_count": null,
   "metadata": {},
   "outputs": [],
   "source": [
    "# Homework-1\n",
    "# The user inputs five values and the program print the values and their types on the screen"
   ]
  },
  {
   "cell_type": "code",
   "execution_count": null,
   "metadata": {},
   "outputs": [],
   "source": [
    "# Input five different types of values\n",
    "list_of_values = []\n",
    "int_value = input(\"Enter an integer: \")\n",
    "float_value = float(input(\"Enter a float: \"))\n",
    "bool_value = bool(input(\"Enter a boolean: \"))\n",
    "string_value = input(\"Enter any value: \")\n",
    "list_of_fruits = list(input(\"Enter a comma separated list of fruits: \").split(','))\n",
    "\n",
    "list_of_values.append(int_value)\n",
    "list_of_values.append(float_value)\n",
    "list_of_values.append(bool_value)\n",
    "list_of_values.append(string_value)\n",
    "list_of_values.append(list_of_fruits)\n",
    "\n",
    "print(list_of_fruits)"
   ]
  },
  {
   "cell_type": "code",
   "execution_count": null,
   "metadata": {},
   "outputs": [],
   "source": []
  },
  {
   "cell_type": "code",
   "execution_count": 11,
   "metadata": {},
   "outputs": [
    {
     "name": "stdout",
     "output_type": "stream",
     "text": [
      "Enter a value: 5\n",
      "['5']\n",
      "NoneType\n"
     ]
    }
   ],
   "source": [
    "list_of_values = []\n",
    "for i in range(1):\n",
    "    value = input(\"Enter a value: \")\n",
    "    list_of_values.append(value)\n",
    "    \n",
    "print(list_of_values)\n",
    "\n",
    "def determine_type(value):\n",
    "    if str(type(int(value))) == '<class int>':\n",
    "        print(\"Value: {}, Type: {}\".format(value, type(value)))\n",
    "    elif str(type(float(value))) == '<class \"float\">':\n",
    "        print(\"Value: {}, Type: {}\".format(value, type(value)))\n",
    "    elif str(type(str(value))) == '<class \"str\">':\n",
    "        print(\"Value: {}, Type: {}\".format(value, type(value)))\n",
    "    elif str(type(bool(value))) in [True, False]:\n",
    "        print(\"Value: {}, Type: {}\".format(value, type(value)))\n",
    "    else:\n",
    "        print(\"NoneType\")\n",
    "\n",
    "determine_type('3')"
   ]
  },
  {
   "cell_type": "code",
   "execution_count": 13,
   "metadata": {},
   "outputs": [
    {
     "name": "stdout",
     "output_type": "stream",
     "text": [
      "Enter a value: 33.5\n",
      "Enter a value: True\n",
      "The values are ['33.5', 'True']\n"
     ]
    }
   ],
   "source": [
    "list_of_values = []\n",
    "for i in range(5):\n",
    "    value = input(\"Enter a value: \")\n",
    "    list_of_values.append(value)\n",
    "    \n",
    "print(\"The values are {}\".format(list_of_values))   # Print out the values entered by the user"
   ]
  },
  {
   "cell_type": "code",
   "execution_count": null,
   "metadata": {},
   "outputs": [],
   "source": []
  }
 ],
 "metadata": {
  "kernelspec": {
   "display_name": "Python 3",
   "language": "python",
   "name": "python3"
  },
  "language_info": {
   "codemirror_mode": {
    "name": "ipython",
    "version": 3
   },
   "file_extension": ".py",
   "mimetype": "text/x-python",
   "name": "python",
   "nbconvert_exporter": "python",
   "pygments_lexer": "ipython3",
   "version": "3.8.3"
  }
 },
 "nbformat": 4,
 "nbformat_minor": 4
}
