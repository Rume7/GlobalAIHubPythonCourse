{
 "cells": [
  {
   "cell_type": "code",
   "execution_count": 1,
   "metadata": {},
   "outputs": [],
   "source": [
    "# Introduction to Python Training with Global AI Hub!\n",
    "# Day2 Homework\n",
    "# By Oghenerhume Disi"
   ]
  },
  {
   "cell_type": "code",
   "execution_count": 2,
   "metadata": {},
   "outputs": [],
   "source": [
    "# Question 1\n",
    "#        Steps\n",
    "#======================================================================\n",
    "# 1. Create a list \n",
    "# 2. Swap the second half of the list with the first half of the list\n",
    "# 3. Print the list on the screen"
   ]
  },
  {
   "cell_type": "code",
   "execution_count": 6,
   "metadata": {},
   "outputs": [
    {
     "name": "stdout",
     "output_type": "stream",
     "text": [
      "['Guava', 'Watermelon', 'Cucumber', 'Pumpkin', 'Apple', 'Banana', 'Cashew', 'Mango']\n"
     ]
    }
   ],
   "source": [
    "list_of_fruits = ['Apple', 'Banana', 'Cashew', 'Mango', 'Guava', 'Watermelon', 'Cucumber', 'Pumpkin']\n",
    "mid_index = len(list_of_fruits)//2\n",
    "first_half = list_of_fruits[:mid_index]\n",
    "second_half = list_of_fruits[mid_index:]\n",
    "\n",
    "fruit_list_updated = []\n",
    "fruit_list_updated.extend(second_half)\n",
    "fruit_list_updated.extend(first_half)\n",
    "\n",
    "print(fruit_list_updated)"
   ]
  },
  {
   "cell_type": "code",
   "execution_count": 7,
   "metadata": {},
   "outputs": [],
   "source": [
    "# Question 2\n",
    "#       Steps\n",
    "#======================================================\n",
    "# 1. Input an integer\n",
    "# 2. Use list comprehension for generating even numbers\n",
    "# 3. Print out even numbers."
   ]
  },
  {
   "cell_type": "code",
   "execution_count": 10,
   "metadata": {},
   "outputs": [
    {
     "name": "stdout",
     "output_type": "stream",
     "text": [
      "Enter a single digit: 10\n",
      "[0, 2, 4, 6, 8, 10]\n"
     ]
    }
   ],
   "source": [
    "n = int(input(\"Enter a single digit: \"))\n",
    "ans = [i for i in range(n+1) if i % 2 == 0]\n",
    "print(ans)"
   ]
  },
  {
   "cell_type": "code",
   "execution_count": null,
   "metadata": {},
   "outputs": [],
   "source": [
    "# End."
   ]
  }
 ],
 "metadata": {
  "kernelspec": {
   "display_name": "Python 3",
   "language": "python",
   "name": "python3"
  },
  "language_info": {
   "codemirror_mode": {
    "name": "ipython",
    "version": 3
   },
   "file_extension": ".py",
   "mimetype": "text/x-python",
   "name": "python",
   "nbconvert_exporter": "python",
   "pygments_lexer": "ipython3",
   "version": "3.8.3"
  }
 },
 "nbformat": 4,
 "nbformat_minor": 4
}
